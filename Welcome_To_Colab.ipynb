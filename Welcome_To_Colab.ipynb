{
  "cells": [
    {
      "cell_type": "markdown",
      "metadata": {
        "id": "view-in-github",
        "colab_type": "text"
      },
      "source": [
        "<a href=\"https://colab.research.google.com/github/Mikop22/Lab7/blob/main/Welcome_To_Colab.ipynb\" target=\"_parent\"><img src=\"https://colab.research.google.com/assets/colab-badge.svg\" alt=\"Open In Colab\"/></a>"
      ]
    },
    {
      "cell_type": "code",
      "source": [
        "import random\n",
        "def get_rand_word():\n",
        "    words = [\"HAPPY\", \"TRAIN\", \"SMILE\", \"CRANE\", \"PLANE\", \"CROWN\", \"QUEEN\",\n",
        "             \"LASER\", \"FLOUR\", \"CHORD\", \"SNAIL\", \"SPACE\", \"RADIO\", \"GRACE\",\n",
        "             \"WHALE\", \"HORSE\", \"TIGER\", \"TRUCK\", \"CRAVE\", \"BRIDE\", \"GROOM\",\n",
        "             \"STUMP\", \"SLANT\", \"POWER\", \"LABEL\", \"FRESH\", \"SLIDE\", \"HOUSE\",\n",
        "             \"HOME\", \"TIRE\", \"BEAR\", \"CORE\", \"CURE\", \"ABLE\", \"SHOT\",\n",
        "             \"TREE\", \"BAIL\", \"PAIL\", \"MAIL\", \"FREE\", \"FIRE\", \"FALL\",\n",
        "             \"BALL\", \"POND\", \"PARK\", \"WINE\", \"DARE\", \"DONE\", \"PUCK\",\n",
        "             \"HARE\", \"HAIR\", \"BILL\", \"FISH\", \"PILE\", \"WAIT\", \"NAIL\"\n",
        "             ]\n",
        "    return random.choice(words)\n",
        "\n",
        "def guess_word(length):\n",
        "    guess = input(f\"Guess a {length} letter word: \")\n",
        "    if len(guess) == length:\n",
        "      return guess.upper()\n",
        "    else:\n",
        "      print(\"Incorrect length\")\n",
        "      return None\n",
        "\n",
        "def check_guess(guess, actual):\n",
        "  out = \"\"\n",
        "\n",
        "  for i in range(len(actual)):\n",
        "    if guess[i] == actual[i]:\n",
        "      out += \"!\"\n",
        "    elif guess[i] not in actual:\n",
        "      out += \"^\"\n",
        "  final = out\n",
        "  for i in range(len(actual)):\n",
        "    if out[i] in actual:\n",
        "      final = out.replace(out[i],\"*\")\n",
        "  return final\n",
        "\n",
        "def play_game(actual=\"\"):\n",
        "  word = get_rand_word()\n",
        "  print(\"Welcome to wordle\")\n",
        "  print(f\"You have 6 tries to get the word\")\n",
        "  count = 1\n",
        "  while count <= 6:\n",
        "    print(f\"Guess #{count}\")\n",
        "    user_guess = guess_word(len(actual))\n",
        "    if user_guess is not None:\n",
        "      count += 1\n",
        "      answer = check_guess(user_guess, word)\n",
        "      print(answer)\n",
        "      if answer == word:\n",
        "          print(\"You Won\")\n",
        "          break\n",
        "    else:\n",
        "      continue\n",
        "  print(\"You Lost\")"
      ],
      "metadata": {
        "id": "JGQ8kEQ3vOIH"
      },
      "execution_count": 3,
      "outputs": []
    }
  ],
  "metadata": {
    "colab": {
      "name": "Welcome To Colab",
      "toc_visible": true,
      "provenance": [],
      "include_colab_link": true
    },
    "kernelspec": {
      "display_name": "Python 3",
      "name": "python3"
    }
  },
  "nbformat": 4,
  "nbformat_minor": 0
}